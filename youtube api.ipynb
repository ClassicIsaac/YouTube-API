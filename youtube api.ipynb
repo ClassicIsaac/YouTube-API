{
 "cells": [
  {
   "cell_type": "code",
   "execution_count": 1,
   "id": "c19b85c5",
   "metadata": {},
   "outputs": [],
   "source": [
    "import requests\n",
    "import pandas as pd"
   ]
  },
  {
   "cell_type": "code",
   "execution_count": 2,
   "id": "add60e6a",
   "metadata": {},
   "outputs": [],
   "source": [
    "#my youtube channel id\n",
    "channel_id=\"UC5EiRo2U9-o2ziNf5zMXE2Q\"\n",
    "\n",
    "#youtube api key\n",
    "api_key=enter your api key here"
   ]
  },
  {
   "cell_type": "code",
   "execution_count": 3,
   "id": "bc3ab6c2",
   "metadata": {},
   "outputs": [],
   "source": [
    "url_id=f\"https://www.googleapis.com/youtube/v3/search?part=snippet&channelId={channel_id}&key={api_key}\"\n",
    "\n",
    "response=requests.get(url_id).json()"
   ]
  },
  {
   "cell_type": "code",
   "execution_count": 4,
   "id": "bb2f22b1",
   "metadata": {},
   "outputs": [],
   "source": [
    "myvideos=pd.DataFrame(columns=[\"Video Id\",\"Video Title\",\"Upload Date\",\"View Count\",\"Like Count\",\"Comment Count\"])\n",
    "column_header=[\"Video Id\",\"Video Title\",\"Upload Date\",\"View Count\",\"Like Count\",\"Comment Count\"]"
   ]
  },
  {
   "cell_type": "code",
   "execution_count": 6,
   "id": "7ee7a673",
   "metadata": {},
   "outputs": [],
   "source": [
    "for video in response[\"items\"]:\n",
    "    if video[\"id\"][\"kind\"]==\"youtube#video\":\n",
    "        video_id=video[\"id\"][\"videoId\"]\n",
    "        video_title=video[\"snippet\"][\"title\"]\n",
    "        video_title=str(video_title).replace(\"&amp\",\"\")\n",
    "        upload_date=video[\"snippet\"][\"publishedAt\"]\n",
    "        upload_date=str(upload_date).split(\"T\")[0]\n",
    "        \n",
    "        #collect views, likes, dislike, comment count\n",
    "        url_videostats=f\"https://www.googleapis.com/youtube/v3/videos?id={video_id}&part=statistics&key={api_key}\"\n",
    "        response_video_stats=requests.get(url_videostats).json()\n",
    "        view_count=response_video_stats[\"items\"][0][\"statistics\"][\"viewCount\"]\n",
    "        like_count=response_video_stats[\"items\"][0][\"statistics\"][\"likeCount\"]\n",
    "        comment_count=response_video_stats[\"items\"][0][\"statistics\"][\"commentCount\"]\n",
    "        \n",
    "        #save video in pandas df\n",
    "        df=pd.DataFrame({\"Video Id\":[video_id],\"Video Title\":[video_title],\"Upload Date\":[upload_date],\"View Count\":[view_count],\"Like Count\":[like_count],\"Comment Count\":[comment_count]})\n",
    "        df=df.set_axis(column_header,axis=1,inplace=False)\n",
    "        frames=[myvideos,df]\n",
    "        myvideos=pd.concat(frames,axis=0)"
   ]
  },
  {
   "cell_type": "code",
   "execution_count": 8,
   "id": "9cff2176",
   "metadata": {},
   "outputs": [],
   "source": [
    "myvideos=myvideos.reset_index().drop(columns=\"index\")"
   ]
  },
  {
   "cell_type": "code",
   "execution_count": 9,
   "id": "020b9495",
   "metadata": {},
   "outputs": [
    {
     "data": {
      "text/html": [
       "<div>\n",
       "<style scoped>\n",
       "    .dataframe tbody tr th:only-of-type {\n",
       "        vertical-align: middle;\n",
       "    }\n",
       "\n",
       "    .dataframe tbody tr th {\n",
       "        vertical-align: top;\n",
       "    }\n",
       "\n",
       "    .dataframe thead th {\n",
       "        text-align: right;\n",
       "    }\n",
       "</style>\n",
       "<table border=\"1\" class=\"dataframe\">\n",
       "  <thead>\n",
       "    <tr style=\"text-align: right;\">\n",
       "      <th></th>\n",
       "      <th>Video Id</th>\n",
       "      <th>Video Title</th>\n",
       "      <th>Upload Date</th>\n",
       "      <th>View Count</th>\n",
       "      <th>Like Count</th>\n",
       "      <th>Comment Count</th>\n",
       "    </tr>\n",
       "  </thead>\n",
       "  <tbody>\n",
       "    <tr>\n",
       "      <th>0</th>\n",
       "      <td>swfexeg8vrU</td>\n",
       "      <td>BROKEN |Electric piano ; drums| E flat - Jesuf...</td>\n",
       "      <td>2020-07-23</td>\n",
       "      <td>22</td>\n",
       "      <td>2</td>\n",
       "      <td>1</td>\n",
       "    </tr>\n",
       "    <tr>\n",
       "      <th>1</th>\n",
       "      <td>YZQe304d8Go</td>\n",
       "      <td>DREAM |guitar| G major - Jesufemi Oresanya</td>\n",
       "      <td>2020-07-24</td>\n",
       "      <td>8</td>\n",
       "      <td>0</td>\n",
       "      <td>0</td>\n",
       "    </tr>\n",
       "    <tr>\n",
       "      <th>2</th>\n",
       "      <td>RzFNaOIDPR8</td>\n",
       "      <td>FANTASY |Guitar| E major - Jesufemi Oresanya</td>\n",
       "      <td>2020-07-25</td>\n",
       "      <td>5</td>\n",
       "      <td>1</td>\n",
       "      <td>0</td>\n",
       "    </tr>\n",
       "    <tr>\n",
       "      <th>3</th>\n",
       "      <td>U9cDSmDxFxo</td>\n",
       "      <td>LET YOUR FIRE FALL ON US |Piano| E flat - Jesu...</td>\n",
       "      <td>2020-07-27</td>\n",
       "      <td>28</td>\n",
       "      <td>6</td>\n",
       "      <td>0</td>\n",
       "    </tr>\n",
       "  </tbody>\n",
       "</table>\n",
       "</div>"
      ],
      "text/plain": [
       "      Video Id                                        Video Title Upload Date  \\\n",
       "0  swfexeg8vrU  BROKEN |Electric piano ; drums| E flat - Jesuf...  2020-07-23   \n",
       "1  YZQe304d8Go         DREAM |guitar| G major - Jesufemi Oresanya  2020-07-24   \n",
       "2  RzFNaOIDPR8       FANTASY |Guitar| E major - Jesufemi Oresanya  2020-07-25   \n",
       "3  U9cDSmDxFxo  LET YOUR FIRE FALL ON US |Piano| E flat - Jesu...  2020-07-27   \n",
       "\n",
       "  View Count Like Count Comment Count  \n",
       "0         22          2             1  \n",
       "1          8          0             0  \n",
       "2          5          1             0  \n",
       "3         28          6             0  "
      ]
     },
     "execution_count": 9,
     "metadata": {},
     "output_type": "execute_result"
    }
   ],
   "source": [
    "myvideos"
   ]
  },
  {
   "cell_type": "code",
   "execution_count": null,
   "id": "70cb7ccb",
   "metadata": {},
   "outputs": [],
   "source": []
  }
 ],
 "metadata": {
  "kernelspec": {
   "display_name": "Python 3 (ipykernel)",
   "language": "python",
   "name": "python3"
  },
  "language_info": {
   "codemirror_mode": {
    "name": "ipython",
    "version": 3
   },
   "file_extension": ".py",
   "mimetype": "text/x-python",
   "name": "python",
   "nbconvert_exporter": "python",
   "pygments_lexer": "ipython3",
   "version": "3.9.12"
  }
 },
 "nbformat": 4,
 "nbformat_minor": 5
}
